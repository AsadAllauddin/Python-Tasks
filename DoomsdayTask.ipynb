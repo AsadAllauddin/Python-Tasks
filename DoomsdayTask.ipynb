{
 "cells": [
  {
   "cell_type": "code",
   "execution_count": 9,
   "id": "bc3f79cb",
   "metadata": {},
   "outputs": [],
   "source": [
    "from typing import List\n",
    "from math import gcd\n",
    "from fractions import Fraction"
   ]
  },
  {
   "cell_type": "code",
   "execution_count": 10,
   "id": "edd3e35d",
   "metadata": {},
   "outputs": [
    {
     "data": {
      "text/plain": [
       "'\\nexample matrix:\\n[\\n    [0, 1, 0, 0, 0, 1],\\n    [4, 0, 0, 3, 2, 0],\\n    [0, 0, 0, 0, 0, 0],\\n    [0, 0, 0, 0, 0, 0],\\n    [0, 0, 0, 0, 0, 0],\\n    [0, 0, 0, 0, 0, 0]\\n]\\n'"
      ]
     },
     "execution_count": 10,
     "metadata": {},
     "output_type": "execute_result"
    }
   ],
   "source": [
    "#given matrix\n",
    "\"\"\"\n",
    "example matrix:\n",
    "[\n",
    "    [0, 1, 0, 0, 0, 1],\n",
    "    [4, 0, 0, 3, 2, 0],\n",
    "    [0, 0, 0, 0, 0, 0],\n",
    "    [0, 0, 0, 0, 0, 0],\n",
    "    [0, 0, 0, 0, 0, 0],\n",
    "    [0, 0, 0, 0, 0, 0]\n",
    "]\n",
    "\"\"\""
   ]
  },
  {
   "cell_type": "code",
   "execution_count": 13,
   "id": "aa07be1e",
   "metadata": {},
   "outputs": [],
   "source": [
    "#get the probability and set confirmation for termination matrix at there proper postions respectivily\n",
    "def transform_matrix(m: List[List]):\n",
    "    \"\"\"\n",
    "    example matrix becomes\n",
    "    [\n",
    "        [0, 1/2, 0, 0, 0, 1/2],\n",
    "        [4/9, 0, 0, 1/3, 2/9, 0],\n",
    "        [0, 0, 1, 0, 0, 0],\n",
    "        [0, 0, 0, 1, 0, 0],\n",
    "        [0, 0, 0, 0, 1, 0],\n",
    "        [0, 0, 0, 0, 0, 1]\n",
    "    ]\n",
    "    \"\"\""
   ]
  },
  {
   "cell_type": "code",
   "execution_count": 14,
   "id": "5e5fefb8",
   "metadata": {},
   "outputs": [
    {
     "ename": "NameError",
     "evalue": "name 'm' is not defined",
     "output_type": "error",
     "traceback": [
      "\u001b[1;31m---------------------------------------------------------------------------\u001b[0m",
      "\u001b[1;31mNameError\u001b[0m                                 Traceback (most recent call last)",
      "\u001b[1;32m~\\AppData\\Local\\Temp\\ipykernel_10960\\1195745859.py\u001b[0m in \u001b[0;36m<module>\u001b[1;34m\u001b[0m\n\u001b[1;32m----> 1\u001b[1;33m \u001b[0ml\u001b[0m \u001b[1;33m=\u001b[0m \u001b[0mlen\u001b[0m\u001b[1;33m(\u001b[0m\u001b[0mm\u001b[0m\u001b[1;33m)\u001b[0m\u001b[1;33m\u001b[0m\u001b[1;33m\u001b[0m\u001b[0m\n\u001b[0m\u001b[0;32m      2\u001b[0m \u001b[1;32mfor\u001b[0m \u001b[0mi\u001b[0m \u001b[1;32min\u001b[0m \u001b[0mrange\u001b[0m\u001b[1;33m(\u001b[0m\u001b[0ml\u001b[0m\u001b[1;33m)\u001b[0m\u001b[1;33m:\u001b[0m\u001b[1;33m\u001b[0m\u001b[1;33m\u001b[0m\u001b[0m\n\u001b[0;32m      3\u001b[0m     \u001b[0mrow_sum\u001b[0m \u001b[1;33m=\u001b[0m \u001b[0msum\u001b[0m\u001b[1;33m(\u001b[0m\u001b[0mm\u001b[0m\u001b[1;33m[\u001b[0m\u001b[0mi\u001b[0m\u001b[1;33m]\u001b[0m\u001b[1;33m)\u001b[0m\u001b[1;33m\u001b[0m\u001b[1;33m\u001b[0m\u001b[0m\n\u001b[0;32m      4\u001b[0m     \u001b[1;32mif\u001b[0m \u001b[0mrow_sum\u001b[0m \u001b[1;33m==\u001b[0m \u001b[1;36m0\u001b[0m\u001b[1;33m:\u001b[0m\u001b[1;33m\u001b[0m\u001b[1;33m\u001b[0m\u001b[0m\n\u001b[0;32m      5\u001b[0m         \u001b[0mm\u001b[0m\u001b[1;33m[\u001b[0m\u001b[0mi\u001b[0m\u001b[1;33m]\u001b[0m\u001b[1;33m[\u001b[0m\u001b[0mi\u001b[0m\u001b[1;33m]\u001b[0m \u001b[1;33m=\u001b[0m \u001b[1;36m1\u001b[0m\u001b[1;33m\u001b[0m\u001b[1;33m\u001b[0m\u001b[0m\n",
      "\u001b[1;31mNameError\u001b[0m: name 'm' is not defined"
     ]
    }
   ],
   "source": [
    "    l = len(m)\n",
    "    for i in range(l):\n",
    "        row_sum = sum(m[i])\n",
    "        if row_sum == 0:\n",
    "            m[i][i] = 1\n",
    "        else:\n",
    "            for j in range(l):\n",
    "                m[i][j] = Fraction(m[i][j], row_sum)"
   ]
  },
  {
   "cell_type": "code",
   "execution_count": 15,
   "id": "4c7f7a5a",
   "metadata": {},
   "outputs": [],
   "source": [
    "# Breaking the problem into 4 matrices\n",
    "# I - Identity Matrix ...  O - Zero Matrix ...  R - Sub Matrix ...  Q - Sub Matrix\n",
    "\n",
    "def get_submatrix(matrix: List[List], rows: List, cols: List) -> List[List]:\n",
    "    new_matrix = []\n",
    "    for row in rows:\n",
    "        current_row = []\n",
    "        for col in cols:\n",
    "            current_row.append(matrix[row][col])\n",
    "        new_matrix.append(current_row)\n",
    "    return new_matrix\n",
    "\n",
    "def get_q_matrix(matrix: List[List], transient_states: List) -> List[List]:\n",
    "    \"\"\"\n",
    "    For example matrix\n",
    "    q_matrix = [\n",
    "        [0, 1/2],\n",
    "        [4/9, 0]\n",
    "    ]\n",
    "    \"\"\"\n",
    "    return get_submatrix(matrix, transient_states, transient_states)"
   ]
  },
  {
   "cell_type": "code",
   "execution_count": 16,
   "id": "1a8f8fae",
   "metadata": {},
   "outputs": [],
   "source": [
    "def make_2d_list(n: int, m: int) -> List[List]:\n",
    "    a = []\n",
    "    for row in range(n):\n",
    "        a += [[0]*m]\n",
    "    return a"
   ]
  },
  {
   "cell_type": "code",
   "execution_count": 19,
   "id": "747a7039",
   "metadata": {},
   "outputs": [
    {
     "ename": "IndentationError",
     "evalue": "unexpected indent (1406397849.py, line 11)",
     "output_type": "error",
     "traceback": [
      "\u001b[1;36m  File \u001b[1;32m\"C:\\Users\\user\\AppData\\Local\\Temp\\ipykernel_10960\\1406397849.py\"\u001b[1;36m, line \u001b[1;32m11\u001b[0m\n\u001b[1;33m    for i in range(n):\u001b[0m\n\u001b[1;37m    ^\u001b[0m\n\u001b[1;31mIndentationError\u001b[0m\u001b[1;31m:\u001b[0m unexpected indent\n"
     ]
    }
   ],
   "source": [
    "def make_identity(n: int) -> List[List]:\n",
    "    \"\"\"\n",
    "    for n=3, it returns\n",
    "    [\n",
    "        [1, 0, 0],\n",
    "        [0, 1, 0],\n",
    "        [0, 0, 1]\n",
    "    ]\n",
    "    \"\"\""
   ]
  },
  {
   "cell_type": "code",
   "execution_count": 21,
   "id": "45fac930",
   "metadata": {},
   "outputs": [
    {
     "ename": "IndentationError",
     "evalue": "unexpected indent (1301617457.py, line 2)",
     "output_type": "error",
     "traceback": [
      "\u001b[1;36m  File \u001b[1;32m\"C:\\Users\\user\\AppData\\Local\\Temp\\ipykernel_10960\\1301617457.py\"\u001b[1;36m, line \u001b[1;32m2\u001b[0m\n\u001b[1;33m    for i in range(n):\u001b[0m\n\u001b[1;37m    ^\u001b[0m\n\u001b[1;31mIndentationError\u001b[0m\u001b[1;31m:\u001b[0m unexpected indent\n"
     ]
    }
   ],
   "source": [
    "matrix = make_2d_list(n, n)\n",
    "    for i in range(n):\n",
    "        matrix[i][i] = 1\n",
    "    return matrix\n",
    "def subtract_matrices(a: List[List], b: List[List]) -> List[List]:\n",
    "    new_matrix = []\n",
    "    n, m = len(a), len(b)\n",
    "    for i in range(n):\n",
    "        row = []\n",
    "        for j in range(m):\n",
    "            row.append(a[i][j] - b[i][j])\n",
    "        new_matrix.append(row)\n",
    "    return new_matrix\n"
   ]
  },
  {
   "cell_type": "code",
   "execution_count": 22,
   "id": "a9c05ccc",
   "metadata": {},
   "outputs": [],
   "source": [
    "def multiply_matrices(a: List[List], b: List[List]) -> List[List]:\n",
    "    \"\"\"\n",
    "    Multiply two matrices a and b\n",
    "    matrix a of size A X B and matrix b of size B X C\n",
    "    would yield a matrix c of size A X C\n",
    "    \"\"\"\n",
    "    ar, ac, bc = len(a), len(a[0]), len(b[0])\n",
    "    c = make_2d_list(ar, bc)\n",
    "    for i in range(ar):\n",
    "        for j in range(bc):\n",
    "            prod = Fraction(0, 1)\n",
    "            for k in range(ac):\n",
    "                prod += a[i][k] * b[k][j]\n",
    "            c[i][j] = prod\n",
    "    return c"
   ]
  },
  {
   "cell_type": "code",
   "execution_count": null,
   "id": "21d13d68",
   "metadata": {},
   "outputs": [],
   "source": []
  }
 ],
 "metadata": {
  "kernelspec": {
   "display_name": "Python 3 (ipykernel)",
   "language": "python",
   "name": "python3"
  },
  "language_info": {
   "codemirror_mode": {
    "name": "ipython",
    "version": 3
   },
   "file_extension": ".py",
   "mimetype": "text/x-python",
   "name": "python",
   "nbconvert_exporter": "python",
   "pygments_lexer": "ipython3",
   "version": "3.9.13"
  }
 },
 "nbformat": 4,
 "nbformat_minor": 5
}
